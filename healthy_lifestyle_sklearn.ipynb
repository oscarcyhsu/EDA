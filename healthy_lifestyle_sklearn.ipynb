{
 "cells": [
  {
   "cell_type": "code",
   "execution_count": null,
   "id": "0186ade6",
   "metadata": {},
   "outputs": [],
   "source": [
    "import sagemaker\n",
    "import boto3\n",
    "import re\n",
    "from sagemaker import get_execution_role\n",
    "\n",
    "sess = sagemaker.Session()\n",
    "bucket = sess.default_bucket()\n",
    "role = get_execution_role()"
   ]
  },
  {
   "cell_type": "code",
   "execution_count": null,
   "id": "8505089b",
   "metadata": {},
   "outputs": [],
   "source": [
    "import pandas as pd\n",
    "import numpy as np\n",
    "import matplotlib.pyplot as plt\n",
    "import io\n",
    "import os\n",
    "import sys\n",
    "import time\n",
    "import json\n",
    "from IPython.display import display\n",
    "from time import strftime, gmtime\n",
    "from sagemaker.inputs import TrainingInput\n",
    "from sagemaker.serializers import CSVSerializer"
   ]
  },
  {
   "cell_type": "code",
   "execution_count": null,
   "id": "1b30824d",
   "metadata": {},
   "outputs": [],
   "source": [
    "s3 = boto3.client(\"s3\")\n",
    "s3.download_file(\"healthy_lifestyle_city_2021.csv\")\n",
    "train_df = pd.read_csv('./healthy_lifestyle_city_2021.csv')"
   ]
  },
  {
   "cell_type": "code",
   "execution_count": null,
   "id": "b075b7a8",
   "metadata": {},
   "outputs": [],
   "source": [
    "# ref https://www.kaggle.com/code/georgyzubkov/lifestyle-eda-all-and-asia-ml-baselines\n",
    "train['Cost of a bottle of water(City)'] = train['Cost of a bottle of water(City)'].replace(to_replace ='£', value = '', regex = True)\n",
    "train['Obesity levels(Country)'] = train['Obesity levels(Country)'].replace(to_replace ='%', value = '', regex = True)\n",
    "train['Cost of a monthly gym membership(City)'] = train['Cost of a monthly gym membership(City)'].replace(to_replace ='£', value = '', regex = True)\n",
    "train=train.drop(['Rank'],axis=1)\n",
    "train = train.replace('-', np.nan)"
   ]
  },
  {
   "cell_type": "code",
   "execution_count": null,
   "id": "638c39b8",
   "metadata": {},
   "outputs": [],
   "source": [
    "train['Cost of a bottle of water(City)']=train['Cost of a bottle of water(City)'].map(float)\n",
    "train['Obesity levels(Country)']=train['Obesity levels(Country)'].map(float)\n",
    "train['Pollution(Index score) (City)']=train['Pollution(Index score) (City)'].map(float)\n",
    "train['Annual avg. hours worked']=train['Annual avg. hours worked'].map(float)\n",
    "train['Cost of a monthly gym membership(City)']=train['Cost of a monthly gym membership(City)'].map(float)"
   ]
  },
  {
   "cell_type": "code",
   "execution_count": null,
   "id": "f60ad674",
   "metadata": {},
   "outputs": [],
   "source": [
    "train=train.drop(['Rank'],axis=1)"
   ]
  },
  {
   "cell_type": "code",
   "execution_count": null,
   "id": "f145e81b",
   "metadata": {},
   "outputs": [],
   "source": [
    "y=train['Happiness levels(Country)']\n",
    "train=train.drop(['Happiness levels(Country)'],axis=1)\n",
    "train.fillna(train.mean(),inplace=True)"
   ]
  },
  {
   "cell_type": "code",
   "execution_count": null,
   "id": "6068bb51",
   "metadata": {},
   "outputs": [],
   "source": [
    "from sklearn import ensemble, tree, linear_model\n",
    "from sklearn.preprocessing import OrdinalEncoder\n",
    "from sklearn.preprocessing import OneHotEncoder\n",
    "from sklearn.preprocessing import StandardScaler\n",
    "\n",
    "from sklearn.neighbors import KNeighborsRegressor\n",
    "from sklearn.preprocessing import StandardScaler\n",
    "from sklearn.model_selection import train_test_split, KFold, GridSearchCV\n",
    "from sklearn.linear_model import LinearRegression, ElasticNet\n",
    "from sklearn.metrics import mean_absolute_error, mean_squared_error, mean_squared_log_error\n",
    "import xgboost as xgb\n",
    "from sklearn.ensemble import RandomForestRegressor"
   ]
  },
  {
   "cell_type": "code",
   "execution_count": null,
   "id": "586af485",
   "metadata": {},
   "outputs": [],
   "source": [
    "X_train, X_test, y_train, y_test=train_test_split(train,y,test_size=0.1,random_state=42)"
   ]
  },
  {
   "cell_type": "code",
   "execution_count": null,
   "id": "70a7e4ef",
   "metadata": {},
   "outputs": [],
   "source": [
    "models = [RandomForestRegressor(), LinearRegression(), xgb.XGBRegressor()]\n",
    "scores = dict()\n",
    "\n",
    "for m in models:\n",
    "    m.fit(X_train, y_train)\n",
    "    y_pred = m.predict(X_test)\n",
    "\n",
    "    print(f'model: {str(m)}')\n",
    "    print(f'RMSE: {mean_squared_error(y_test,y_pred)}')\n",
    "    print(f'MAE: {mean_absolute_error(y_test, y_pred)}')\n",
    "    print()"
   ]
  }
 ],
 "metadata": {
  "kernelspec": {
   "display_name": "conda_python3",
   "language": "python",
   "name": "conda_python3"
  },
  "language_info": {
   "codemirror_mode": {
    "name": "ipython",
    "version": 3
   },
   "file_extension": ".py",
   "mimetype": "text/x-python",
   "name": "python",
   "nbconvert_exporter": "python",
   "pygments_lexer": "ipython3",
   "version": "3.8.12"
  }
 },
 "nbformat": 4,
 "nbformat_minor": 5
}
