{
 "cells": [
  {
   "cell_type": "code",
   "execution_count": null,
   "id": "118f8a3a",
   "metadata": {},
   "outputs": [],
   "source": [
    "import pandas\n",
    "import redshift_connector"
   ]
  },
  {
   "cell_type": "code",
   "execution_count": null,
   "id": "a6944b57",
   "metadata": {},
   "outputs": [],
   "source": [
    "# Connects to Redshift cluster using AWS credentials\n",
    "conn = redshift_connector.connect(\n",
    "    host='cluster.oscarhsu.us-west-1.redshift.amazonaws.com'',\n",
    "    database='EDA',\n",
    "    user='me',\n",
    "    password='do not hack me pls'\n",
    " )\n",
    "\n",
    "cursor: redshift_connector.Cursor = conn.cursor()\n",
    "\n",
    "cursor.execute(\"select * from healthyLifeStyle\")\n",
    "\n",
    "df: pandas.DataFrame = cursor.fetch_dataframe()\n"
   ]
  },
  {
   "cell_type": "code",
   "execution_count": null,
   "id": "77516968",
   "metadata": {},
   "outputs": [],
   "source": [
    "df=df.drop(['Rank'],axis=1)\n",
    "df = df.replace('-', np.nan)\n",
    "df['Cost of a monthly gym membership(City)'] = df['Cost of a monthly gym membership(City)'].replace(to_replace ='£', value = '', regex = True)\n",
    "df['Obesity levels(Country)'] = df['Obesity levels(Country)'].replace(to_replace ='%', value = '', regex = True)\n",
    "df['Cost of a bottle of water(City)'] = df['Cost of a bottle of water(City)'].replace(to_replace ='£', value = '', regex = True)"
   ]
  },
  {
   "cell_type": "code",
   "execution_count": null,
   "id": "99e001c3",
   "metadata": {},
   "outputs": [],
   "source": [
    "df['Cost of a bottle of water(City)']=df['Cost of a bottle of water(City)'].map(float)\n",
    "df['Obesity levels(Country)']=df['Obesity levels(Country)'].map(float)\n",
    "df['Pollution(Index score) (City)']=df['Pollution(Index score) (City)'].map(float)\n",
    "df['Annual avg. hours worked']=df['Annual avg. hours worked'].map(float)\n",
    "df['Cost of a monthly gym membership(City)']=df['Cost of a monthly gym membership(City)'].map(float)"
   ]
  },
  {
   "cell_type": "code",
   "execution_count": null,
   "id": "dbcbd586",
   "metadata": {},
   "outputs": [],
   "source": [
    "with con.cursor() as cursor:\n",
    "    cursor.write_dataframe(df, \"book\")"
   ]
  }
 ],
 "metadata": {
  "kernelspec": {
   "display_name": "conda_python3",
   "language": "python",
   "name": "conda_python3"
  },
  "language_info": {
   "codemirror_mode": {
    "name": "ipython",
    "version": 3
   },
   "file_extension": ".py",
   "mimetype": "text/x-python",
   "name": "python",
   "nbconvert_exporter": "python",
   "pygments_lexer": "ipython3",
   "version": "3.8.12"
  }
 },
 "nbformat": 4,
 "nbformat_minor": 5
}
